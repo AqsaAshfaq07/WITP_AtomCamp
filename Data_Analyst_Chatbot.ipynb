{
  "nbformat": 4,
  "nbformat_minor": 0,
  "metadata": {
    "colab": {
      "provenance": []
    },
    "kernelspec": {
      "name": "python3",
      "display_name": "Python 3"
    },
    "language_info": {
      "name": "python"
    }
  },
  "cells": [
    {
      "cell_type": "code",
      "execution_count": 1,
      "metadata": {
        "id": "VrLjpFpKvJn6"
      },
      "outputs": [],
      "source": [
        "# Use Data Loaders from Langchain to load data"
      ]
    },
    {
      "cell_type": "code",
      "source": [
        "!pip install pypdf\n",
        "!pip install -U langchain\n",
        "!pip install langchain_community"
      ],
      "metadata": {
        "colab": {
          "base_uri": "https://localhost:8080/"
        },
        "collapsed": true,
        "id": "E3VtaYhBwG8w",
        "outputId": "ef11eb61-8c39-4a55-bfc5-334d04b906a3"
      },
      "execution_count": 80,
      "outputs": [
        {
          "output_type": "stream",
          "name": "stdout",
          "text": [
            "Requirement already satisfied: pypdf in /usr/local/lib/python3.10/dist-packages (4.2.0)\n",
            "Requirement already satisfied: typing_extensions>=4.0 in /usr/local/lib/python3.10/dist-packages (from pypdf) (4.11.0)\n",
            "Requirement already satisfied: langchain in /usr/local/lib/python3.10/dist-packages (0.2.0)\n",
            "Requirement already satisfied: PyYAML>=5.3 in /usr/local/lib/python3.10/dist-packages (from langchain) (6.0.1)\n",
            "Requirement already satisfied: SQLAlchemy<3,>=1.4 in /usr/local/lib/python3.10/dist-packages (from langchain) (2.0.30)\n",
            "Requirement already satisfied: aiohttp<4.0.0,>=3.8.3 in /usr/local/lib/python3.10/dist-packages (from langchain) (3.9.5)\n",
            "Requirement already satisfied: async-timeout<5.0.0,>=4.0.0 in /usr/local/lib/python3.10/dist-packages (from langchain) (4.0.3)\n",
            "Requirement already satisfied: dataclasses-json<0.7,>=0.5.7 in /usr/local/lib/python3.10/dist-packages (from langchain) (0.6.6)\n",
            "Requirement already satisfied: langchain-core<0.3.0,>=0.2.0 in /usr/local/lib/python3.10/dist-packages (from langchain) (0.2.0)\n",
            "Requirement already satisfied: langchain-text-splitters<0.3.0,>=0.2.0 in /usr/local/lib/python3.10/dist-packages (from langchain) (0.2.0)\n",
            "Requirement already satisfied: langsmith<0.2.0,>=0.1.17 in /usr/local/lib/python3.10/dist-packages (from langchain) (0.1.59)\n",
            "Requirement already satisfied: numpy<2,>=1 in /usr/local/lib/python3.10/dist-packages (from langchain) (1.25.2)\n",
            "Requirement already satisfied: pydantic<3,>=1 in /usr/local/lib/python3.10/dist-packages (from langchain) (2.7.1)\n",
            "Requirement already satisfied: requests<3,>=2 in /usr/local/lib/python3.10/dist-packages (from langchain) (2.31.0)\n",
            "Requirement already satisfied: tenacity<9.0.0,>=8.1.0 in /usr/local/lib/python3.10/dist-packages (from langchain) (8.3.0)\n",
            "Requirement already satisfied: aiosignal>=1.1.2 in /usr/local/lib/python3.10/dist-packages (from aiohttp<4.0.0,>=3.8.3->langchain) (1.3.1)\n",
            "Requirement already satisfied: attrs>=17.3.0 in /usr/local/lib/python3.10/dist-packages (from aiohttp<4.0.0,>=3.8.3->langchain) (23.2.0)\n",
            "Requirement already satisfied: frozenlist>=1.1.1 in /usr/local/lib/python3.10/dist-packages (from aiohttp<4.0.0,>=3.8.3->langchain) (1.4.1)\n",
            "Requirement already satisfied: multidict<7.0,>=4.5 in /usr/local/lib/python3.10/dist-packages (from aiohttp<4.0.0,>=3.8.3->langchain) (6.0.5)\n",
            "Requirement already satisfied: yarl<2.0,>=1.0 in /usr/local/lib/python3.10/dist-packages (from aiohttp<4.0.0,>=3.8.3->langchain) (1.9.4)\n",
            "Requirement already satisfied: marshmallow<4.0.0,>=3.18.0 in /usr/local/lib/python3.10/dist-packages (from dataclasses-json<0.7,>=0.5.7->langchain) (3.21.2)\n",
            "Requirement already satisfied: typing-inspect<1,>=0.4.0 in /usr/local/lib/python3.10/dist-packages (from dataclasses-json<0.7,>=0.5.7->langchain) (0.9.0)\n",
            "Requirement already satisfied: jsonpatch<2.0,>=1.33 in /usr/local/lib/python3.10/dist-packages (from langchain-core<0.3.0,>=0.2.0->langchain) (1.33)\n",
            "Requirement already satisfied: packaging<24.0,>=23.2 in /usr/local/lib/python3.10/dist-packages (from langchain-core<0.3.0,>=0.2.0->langchain) (23.2)\n",
            "Requirement already satisfied: orjson<4.0.0,>=3.9.14 in /usr/local/lib/python3.10/dist-packages (from langsmith<0.2.0,>=0.1.17->langchain) (3.10.3)\n",
            "Requirement already satisfied: annotated-types>=0.4.0 in /usr/local/lib/python3.10/dist-packages (from pydantic<3,>=1->langchain) (0.6.0)\n",
            "Requirement already satisfied: pydantic-core==2.18.2 in /usr/local/lib/python3.10/dist-packages (from pydantic<3,>=1->langchain) (2.18.2)\n",
            "Requirement already satisfied: typing-extensions>=4.6.1 in /usr/local/lib/python3.10/dist-packages (from pydantic<3,>=1->langchain) (4.11.0)\n",
            "Requirement already satisfied: charset-normalizer<4,>=2 in /usr/local/lib/python3.10/dist-packages (from requests<3,>=2->langchain) (3.3.2)\n",
            "Requirement already satisfied: idna<4,>=2.5 in /usr/local/lib/python3.10/dist-packages (from requests<3,>=2->langchain) (3.7)\n",
            "Requirement already satisfied: urllib3<3,>=1.21.1 in /usr/local/lib/python3.10/dist-packages (from requests<3,>=2->langchain) (2.0.7)\n",
            "Requirement already satisfied: certifi>=2017.4.17 in /usr/local/lib/python3.10/dist-packages (from requests<3,>=2->langchain) (2024.2.2)\n",
            "Requirement already satisfied: greenlet!=0.4.17 in /usr/local/lib/python3.10/dist-packages (from SQLAlchemy<3,>=1.4->langchain) (3.0.3)\n",
            "Requirement already satisfied: jsonpointer>=1.9 in /usr/local/lib/python3.10/dist-packages (from jsonpatch<2.0,>=1.33->langchain-core<0.3.0,>=0.2.0->langchain) (2.4)\n",
            "Requirement already satisfied: mypy-extensions>=0.3.0 in /usr/local/lib/python3.10/dist-packages (from typing-inspect<1,>=0.4.0->dataclasses-json<0.7,>=0.5.7->langchain) (1.0.0)\n",
            "Requirement already satisfied: langchain_community in /usr/local/lib/python3.10/dist-packages (0.2.0)\n",
            "Requirement already satisfied: PyYAML>=5.3 in /usr/local/lib/python3.10/dist-packages (from langchain_community) (6.0.1)\n",
            "Requirement already satisfied: SQLAlchemy<3,>=1.4 in /usr/local/lib/python3.10/dist-packages (from langchain_community) (2.0.30)\n",
            "Requirement already satisfied: aiohttp<4.0.0,>=3.8.3 in /usr/local/lib/python3.10/dist-packages (from langchain_community) (3.9.5)\n",
            "Requirement already satisfied: dataclasses-json<0.7,>=0.5.7 in /usr/local/lib/python3.10/dist-packages (from langchain_community) (0.6.6)\n",
            "Requirement already satisfied: langchain<0.3.0,>=0.2.0 in /usr/local/lib/python3.10/dist-packages (from langchain_community) (0.2.0)\n",
            "Requirement already satisfied: langchain-core<0.3.0,>=0.2.0 in /usr/local/lib/python3.10/dist-packages (from langchain_community) (0.2.0)\n",
            "Requirement already satisfied: langsmith<0.2.0,>=0.1.0 in /usr/local/lib/python3.10/dist-packages (from langchain_community) (0.1.59)\n",
            "Requirement already satisfied: numpy<2,>=1 in /usr/local/lib/python3.10/dist-packages (from langchain_community) (1.25.2)\n",
            "Requirement already satisfied: requests<3,>=2 in /usr/local/lib/python3.10/dist-packages (from langchain_community) (2.31.0)\n",
            "Requirement already satisfied: tenacity<9.0.0,>=8.1.0 in /usr/local/lib/python3.10/dist-packages (from langchain_community) (8.3.0)\n",
            "Requirement already satisfied: aiosignal>=1.1.2 in /usr/local/lib/python3.10/dist-packages (from aiohttp<4.0.0,>=3.8.3->langchain_community) (1.3.1)\n",
            "Requirement already satisfied: attrs>=17.3.0 in /usr/local/lib/python3.10/dist-packages (from aiohttp<4.0.0,>=3.8.3->langchain_community) (23.2.0)\n",
            "Requirement already satisfied: frozenlist>=1.1.1 in /usr/local/lib/python3.10/dist-packages (from aiohttp<4.0.0,>=3.8.3->langchain_community) (1.4.1)\n",
            "Requirement already satisfied: multidict<7.0,>=4.5 in /usr/local/lib/python3.10/dist-packages (from aiohttp<4.0.0,>=3.8.3->langchain_community) (6.0.5)\n",
            "Requirement already satisfied: yarl<2.0,>=1.0 in /usr/local/lib/python3.10/dist-packages (from aiohttp<4.0.0,>=3.8.3->langchain_community) (1.9.4)\n",
            "Requirement already satisfied: async-timeout<5.0,>=4.0 in /usr/local/lib/python3.10/dist-packages (from aiohttp<4.0.0,>=3.8.3->langchain_community) (4.0.3)\n",
            "Requirement already satisfied: marshmallow<4.0.0,>=3.18.0 in /usr/local/lib/python3.10/dist-packages (from dataclasses-json<0.7,>=0.5.7->langchain_community) (3.21.2)\n",
            "Requirement already satisfied: typing-inspect<1,>=0.4.0 in /usr/local/lib/python3.10/dist-packages (from dataclasses-json<0.7,>=0.5.7->langchain_community) (0.9.0)\n",
            "Requirement already satisfied: langchain-text-splitters<0.3.0,>=0.2.0 in /usr/local/lib/python3.10/dist-packages (from langchain<0.3.0,>=0.2.0->langchain_community) (0.2.0)\n",
            "Requirement already satisfied: pydantic<3,>=1 in /usr/local/lib/python3.10/dist-packages (from langchain<0.3.0,>=0.2.0->langchain_community) (2.7.1)\n",
            "Requirement already satisfied: jsonpatch<2.0,>=1.33 in /usr/local/lib/python3.10/dist-packages (from langchain-core<0.3.0,>=0.2.0->langchain_community) (1.33)\n",
            "Requirement already satisfied: packaging<24.0,>=23.2 in /usr/local/lib/python3.10/dist-packages (from langchain-core<0.3.0,>=0.2.0->langchain_community) (23.2)\n",
            "Requirement already satisfied: orjson<4.0.0,>=3.9.14 in /usr/local/lib/python3.10/dist-packages (from langsmith<0.2.0,>=0.1.0->langchain_community) (3.10.3)\n",
            "Requirement already satisfied: charset-normalizer<4,>=2 in /usr/local/lib/python3.10/dist-packages (from requests<3,>=2->langchain_community) (3.3.2)\n",
            "Requirement already satisfied: idna<4,>=2.5 in /usr/local/lib/python3.10/dist-packages (from requests<3,>=2->langchain_community) (3.7)\n",
            "Requirement already satisfied: urllib3<3,>=1.21.1 in /usr/local/lib/python3.10/dist-packages (from requests<3,>=2->langchain_community) (2.0.7)\n",
            "Requirement already satisfied: certifi>=2017.4.17 in /usr/local/lib/python3.10/dist-packages (from requests<3,>=2->langchain_community) (2024.2.2)\n",
            "Requirement already satisfied: typing-extensions>=4.6.0 in /usr/local/lib/python3.10/dist-packages (from SQLAlchemy<3,>=1.4->langchain_community) (4.11.0)\n",
            "Requirement already satisfied: greenlet!=0.4.17 in /usr/local/lib/python3.10/dist-packages (from SQLAlchemy<3,>=1.4->langchain_community) (3.0.3)\n",
            "Requirement already satisfied: jsonpointer>=1.9 in /usr/local/lib/python3.10/dist-packages (from jsonpatch<2.0,>=1.33->langchain-core<0.3.0,>=0.2.0->langchain_community) (2.4)\n",
            "Requirement already satisfied: annotated-types>=0.4.0 in /usr/local/lib/python3.10/dist-packages (from pydantic<3,>=1->langchain<0.3.0,>=0.2.0->langchain_community) (0.6.0)\n",
            "Requirement already satisfied: pydantic-core==2.18.2 in /usr/local/lib/python3.10/dist-packages (from pydantic<3,>=1->langchain<0.3.0,>=0.2.0->langchain_community) (2.18.2)\n",
            "Requirement already satisfied: mypy-extensions>=0.3.0 in /usr/local/lib/python3.10/dist-packages (from typing-inspect<1,>=0.4.0->dataclasses-json<0.7,>=0.5.7->langchain_community) (1.0.0)\n"
          ]
        }
      ]
    },
    {
      "cell_type": "code",
      "source": [
        "from langchain_community.document_loaders import TextLoader\n",
        "\n",
        "loader = TextLoader(\"old.adult.names\")\n",
        "data = loader.load()"
      ],
      "metadata": {
        "id": "cXfY-ItcwKpU"
      },
      "execution_count": 95,
      "outputs": []
    },
    {
      "cell_type": "code",
      "source": [
        "# Creata a langchain instance and add document"
      ],
      "metadata": {
        "id": "gKrlWIfQ0W4j"
      },
      "execution_count": 17,
      "outputs": []
    },
    {
      "cell_type": "code",
      "source": [
        "import langchain\n",
        "from langchain.chains.qa_with_sources.loading import load_qa_with_sources_chain\n",
        "from langchain.llms import OpenAI\n",
        "from google.colab import userdata\n",
        "\n",
        "api_key = userdata.get('OPENAI_API_KEY')\n",
        "llm = OpenAI(api_key = api_key)\n",
        "chain = load_qa_with_sources_chain(llm=llm)"
      ],
      "metadata": {
        "id": "gtFjBJoj0bu0"
      },
      "execution_count": 96,
      "outputs": []
    },
    {
      "cell_type": "code",
      "source": [
        "# Defining query function"
      ],
      "metadata": {
        "id": "K8kKyVNP3U5l"
      },
      "execution_count": null,
      "outputs": []
    },
    {
      "cell_type": "code",
      "source": [
        "def query_func(query, chain, docs):\n",
        "    inputs = {\n",
        "        'question': query,\n",
        "        'input_documents': data\n",
        "    }\n",
        "\n",
        "    response = chain.invoke(inputs)\n",
        "    return response"
      ],
      "metadata": {
        "id": "juKSGsNU3b4n"
      },
      "execution_count": 97,
      "outputs": []
    },
    {
      "cell_type": "code",
      "source": [
        "# Now using query function to query the model about provided data"
      ],
      "metadata": {
        "id": "756dyAAC4DPv"
      },
      "execution_count": null,
      "outputs": []
    },
    {
      "cell_type": "code",
      "source": [
        "query = \"Provide me a summary of this doc?\"\n",
        "answer = query_func(query, chain, data)"
      ],
      "metadata": {
        "id": "R572sdpk4NIr"
      },
      "execution_count": 100,
      "outputs": []
    },
    {
      "cell_type": "code",
      "source": [
        "answer['output_text']"
      ],
      "metadata": {
        "colab": {
          "base_uri": "https://localhost:8080/",
          "height": 126
        },
        "id": "twv6U-8D8QF5",
        "outputId": "f8ba4576-623e-4066-c097-f35e3b089af7"
      },
      "execution_count": 101,
      "outputs": [
        {
          "output_type": "execute_result",
          "data": {
            "text/plain": [
              "' The document provides information about a database called \"adult\" that was created using data from the 1994 US Census. The database contains 48842 instances with a mix of continuous and discrete attributes. The article \"Scaling Up the Accuracy of Naive-Bayes Classifiers: a Decision-Tree Hybrid\" describes how the database was used to predict whether a person\\'s salary is greater or less than $50,000. The results showed that the database is a difficult but useful domain for classification. The database was split into train and test sets, with a probability of 23.93% for the label \">50K\" and 76.07% for the label \"<=50K\". The document also includes information about the attributes and missing values in the database.\\nSOURCES: old.adult.names'"
            ],
            "application/vnd.google.colaboratory.intrinsic+json": {
              "type": "string"
            }
          },
          "metadata": {},
          "execution_count": 101
        }
      ]
    },
    {
      "cell_type": "code",
      "source": [
        "# Drawing Charts"
      ],
      "metadata": {
        "id": "1Llzz3ru8hZ3"
      },
      "execution_count": 93,
      "outputs": []
    },
    {
      "cell_type": "code",
      "source": [
        "# prompt: use pandas to draw charts of this data\n",
        "\n",
        "import pandas as pd\n",
        "\n",
        "df = pd.DataFrame(data)\n",
        "df.plot.bar\n"
      ],
      "metadata": {
        "colab": {
          "base_uri": "https://localhost:8080/",
          "height": 186
        },
        "id": "kRrlsJetCZ6H",
        "outputId": "84230161-1911-4464-8548-008a49962484"
      },
      "execution_count": 108,
      "outputs": [
        {
          "output_type": "execute_result",
          "data": {
            "text/plain": [
              "<bound method PlotAccessor.bar of <pandas.plotting._core.PlotAccessor object at 0x7a2842e17d00>>"
            ],
            "text/html": [
              "<div style=\"max-width:800px; border: 1px solid var(--colab-border-color);\"><style>\n",
              "      pre.function-repr-contents {\n",
              "        overflow-x: auto;\n",
              "        padding: 8px 12px;\n",
              "        max-height: 500px;\n",
              "      }\n",
              "\n",
              "      pre.function-repr-contents.function-repr-contents-collapsed {\n",
              "        cursor: pointer;\n",
              "        max-height: 100px;\n",
              "      }\n",
              "    </style>\n",
              "    <pre style=\"white-space: initial; background:\n",
              "         var(--colab-secondary-surface-color); padding: 8px 12px;\n",
              "         border-bottom: 1px solid var(--colab-border-color);\"><b>pandas.plotting._core.PlotAccessor.bar</b><br/>def bar(x=None, y=None, **kwargs) -&gt; PlotAccessor</pre><pre class=\"function-repr-contents function-repr-contents-collapsed\" style=\"\"><a class=\"filepath\" style=\"display:none\" href=\"#\">/usr/local/lib/python3.10/dist-packages/pandas/plotting/_core.py</a>Vertical bar plot.\n",
              "\n",
              "A bar plot is a plot that presents categorical data with\n",
              "rectangular bars with lengths proportional to the values that they\n",
              "represent. A bar plot shows comparisons among discrete categories. One\n",
              "axis of the plot shows the specific categories being compared, and the\n",
              "other axis represents a measured value.\n",
              "\n",
              "Parameters\n",
              "----------\n",
              "x : label or position, optional\n",
              "    Allows plotting of one column versus another. If not specified,\n",
              "    the index of the DataFrame is used.\n",
              "y : label or position, optional\n",
              "    Allows plotting of one column versus another. If not specified,\n",
              "    all numerical columns are used.\n",
              "color : str, array-like, or dict, optional\n",
              "    The color for each of the DataFrame&#x27;s columns. Possible values are:\n",
              "\n",
              "    - A single color string referred to by name, RGB or RGBA code,\n",
              "        for instance &#x27;red&#x27; or &#x27;#a98d19&#x27;.\n",
              "\n",
              "    - A sequence of color strings referred to by name, RGB or RGBA\n",
              "        code, which will be used for each column recursively. For\n",
              "        instance [&#x27;green&#x27;,&#x27;yellow&#x27;] each column&#x27;s bar will be filled in\n",
              "        green or yellow, alternatively. If there is only a single column to\n",
              "        be plotted, then only the first color from the color list will be\n",
              "        used.\n",
              "\n",
              "    - A dict of the form {column name : color}, so that each column will be\n",
              "        colored accordingly. For example, if your columns are called `a` and\n",
              "        `b`, then passing {&#x27;a&#x27;: &#x27;green&#x27;, &#x27;b&#x27;: &#x27;red&#x27;} will color bars for\n",
              "        column `a` in green and bars for column `b` in red.\n",
              "\n",
              "    .. versionadded:: 1.1.0\n",
              "\n",
              "**kwargs\n",
              "    Additional keyword arguments are documented in\n",
              "    :meth:`DataFrame.plot`.\n",
              "\n",
              "Returns\n",
              "-------\n",
              "matplotlib.axes.Axes or np.ndarray of them\n",
              "    An ndarray is returned with one :class:`matplotlib.axes.Axes`\n",
              "    per column when ``subplots=True``.\n",
              "\n",
              "        See Also\n",
              "        --------\n",
              "        DataFrame.plot.barh : Horizontal bar plot.\n",
              "        DataFrame.plot : Make plots of a DataFrame.\n",
              "        matplotlib.pyplot.bar : Make a bar plot with matplotlib.\n",
              "\n",
              "        Examples\n",
              "        --------\n",
              "        Basic plot.\n",
              "\n",
              "        .. plot::\n",
              "            :context: close-figs\n",
              "\n",
              "            &gt;&gt;&gt; df = pd.DataFrame({&#x27;lab&#x27;:[&#x27;A&#x27;, &#x27;B&#x27;, &#x27;C&#x27;], &#x27;val&#x27;:[10, 30, 20]})\n",
              "            &gt;&gt;&gt; ax = df.plot.bar(x=&#x27;lab&#x27;, y=&#x27;val&#x27;, rot=0)\n",
              "\n",
              "        Plot a whole dataframe to a bar plot. Each column is assigned a\n",
              "        distinct color, and each row is nested in a group along the\n",
              "        horizontal axis.\n",
              "\n",
              "        .. plot::\n",
              "            :context: close-figs\n",
              "\n",
              "            &gt;&gt;&gt; speed = [0.1, 17.5, 40, 48, 52, 69, 88]\n",
              "            &gt;&gt;&gt; lifespan = [2, 8, 70, 1.5, 25, 12, 28]\n",
              "            &gt;&gt;&gt; index = [&#x27;snail&#x27;, &#x27;pig&#x27;, &#x27;elephant&#x27;,\n",
              "            ...          &#x27;rabbit&#x27;, &#x27;giraffe&#x27;, &#x27;coyote&#x27;, &#x27;horse&#x27;]\n",
              "            &gt;&gt;&gt; df = pd.DataFrame({&#x27;speed&#x27;: speed,\n",
              "            ...                    &#x27;lifespan&#x27;: lifespan}, index=index)\n",
              "            &gt;&gt;&gt; ax = df.plot.bar(rot=0)\n",
              "\n",
              "        Plot stacked bar charts for the DataFrame\n",
              "\n",
              "        .. plot::\n",
              "            :context: close-figs\n",
              "\n",
              "            &gt;&gt;&gt; ax = df.plot.bar(stacked=True)\n",
              "\n",
              "        Instead of nesting, the figure can be split by column with\n",
              "        ``subplots=True``. In this case, a :class:`numpy.ndarray` of\n",
              "        :class:`matplotlib.axes.Axes` are returned.\n",
              "\n",
              "        .. plot::\n",
              "            :context: close-figs\n",
              "\n",
              "            &gt;&gt;&gt; axes = df.plot.bar(rot=0, subplots=True)\n",
              "            &gt;&gt;&gt; axes[1].legend(loc=2)  # doctest: +SKIP\n",
              "\n",
              "        If you don&#x27;t like the default colours, you can specify how you&#x27;d\n",
              "        like each column to be colored.\n",
              "\n",
              "        .. plot::\n",
              "            :context: close-figs\n",
              "\n",
              "            &gt;&gt;&gt; axes = df.plot.bar(\n",
              "            ...     rot=0, subplots=True, color={&quot;speed&quot;: &quot;red&quot;, &quot;lifespan&quot;: &quot;green&quot;}\n",
              "            ... )\n",
              "            &gt;&gt;&gt; axes[1].legend(loc=2)  # doctest: +SKIP\n",
              "\n",
              "        Plot a single column.\n",
              "\n",
              "        .. plot::\n",
              "            :context: close-figs\n",
              "\n",
              "            &gt;&gt;&gt; ax = df.plot.bar(y=&#x27;speed&#x27;, rot=0)\n",
              "\n",
              "        Plot only selected categories for the DataFrame.\n",
              "\n",
              "        .. plot::\n",
              "            :context: close-figs\n",
              "\n",
              "            &gt;&gt;&gt; ax = df.plot.bar(x=&#x27;lifespan&#x27;, rot=0)</pre>\n",
              "      <script>\n",
              "      if (google.colab.kernel.accessAllowed && google.colab.files && google.colab.files.view) {\n",
              "        for (const element of document.querySelectorAll('.filepath')) {\n",
              "          element.style.display = 'block'\n",
              "          element.onclick = (event) => {\n",
              "            event.preventDefault();\n",
              "            event.stopPropagation();\n",
              "            google.colab.files.view(element.textContent, 1046);\n",
              "          };\n",
              "        }\n",
              "      }\n",
              "      for (const element of document.querySelectorAll('.function-repr-contents')) {\n",
              "        element.onclick = (event) => {\n",
              "          event.preventDefault();\n",
              "          event.stopPropagation();\n",
              "          element.classList.toggle('function-repr-contents-collapsed');\n",
              "        };\n",
              "      }\n",
              "      </script>\n",
              "      </div>"
            ]
          },
          "metadata": {},
          "execution_count": 108
        }
      ]
    }
  ]
}